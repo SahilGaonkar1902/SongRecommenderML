{
 "cells": [
  {
   "cell_type": "code",
   "execution_count": 98,
   "id": "0d11d255-4175-401b-a41a-083aee8e1e51",
   "metadata": {},
   "outputs": [],
   "source": [
    "import pandas as pd"
   ]
  },
  {
   "cell_type": "code",
   "execution_count": 99,
   "id": "93a41672-b5c0-4b51-910d-0fffcdfe2e58",
   "metadata": {
    "scrolled": true
   },
   "outputs": [],
   "source": [
    "df = pd.read_csv(\"spotify_millsongdata.csv\")\n"
   ]
  },
  {
   "cell_type": "code",
   "execution_count": 100,
   "id": "321e88cc-45fc-4d7c-9ee0-c77714bc7c86",
   "metadata": {},
   "outputs": [
    {
     "data": {
      "text/html": [
       "<div>\n",
       "<style scoped>\n",
       "    .dataframe tbody tr th:only-of-type {\n",
       "        vertical-align: middle;\n",
       "    }\n",
       "\n",
       "    .dataframe tbody tr th {\n",
       "        vertical-align: top;\n",
       "    }\n",
       "\n",
       "    .dataframe thead th {\n",
       "        text-align: right;\n",
       "    }\n",
       "</style>\n",
       "<table border=\"1\" class=\"dataframe\">\n",
       "  <thead>\n",
       "    <tr style=\"text-align: right;\">\n",
       "      <th></th>\n",
       "      <th>artist</th>\n",
       "      <th>song</th>\n",
       "      <th>link</th>\n",
       "      <th>text</th>\n",
       "    </tr>\n",
       "  </thead>\n",
       "  <tbody>\n",
       "    <tr>\n",
       "      <th>0</th>\n",
       "      <td>ABBA</td>\n",
       "      <td>Ahe's My Kind Of Girl</td>\n",
       "      <td>/a/abba/ahes+my+kind+of+girl_20598417.html</td>\n",
       "      <td>Look at her face, it's a wonderful face  \\r\\nA...</td>\n",
       "    </tr>\n",
       "    <tr>\n",
       "      <th>1</th>\n",
       "      <td>ABBA</td>\n",
       "      <td>Andante, Andante</td>\n",
       "      <td>/a/abba/andante+andante_20002708.html</td>\n",
       "      <td>Take it easy with me, please  \\r\\nTouch me gen...</td>\n",
       "    </tr>\n",
       "    <tr>\n",
       "      <th>2</th>\n",
       "      <td>ABBA</td>\n",
       "      <td>As Good As New</td>\n",
       "      <td>/a/abba/as+good+as+new_20003033.html</td>\n",
       "      <td>I'll never know why I had to go  \\r\\nWhy I had...</td>\n",
       "    </tr>\n",
       "    <tr>\n",
       "      <th>3</th>\n",
       "      <td>ABBA</td>\n",
       "      <td>Bang</td>\n",
       "      <td>/a/abba/bang_20598415.html</td>\n",
       "      <td>Making somebody happy is a question of give an...</td>\n",
       "    </tr>\n",
       "    <tr>\n",
       "      <th>4</th>\n",
       "      <td>ABBA</td>\n",
       "      <td>Bang-A-Boomerang</td>\n",
       "      <td>/a/abba/bang+a+boomerang_20002668.html</td>\n",
       "      <td>Making somebody happy is a question of give an...</td>\n",
       "    </tr>\n",
       "  </tbody>\n",
       "</table>\n",
       "</div>"
      ],
      "text/plain": [
       "  artist                   song                                        link  \\\n",
       "0   ABBA  Ahe's My Kind Of Girl  /a/abba/ahes+my+kind+of+girl_20598417.html   \n",
       "1   ABBA       Andante, Andante       /a/abba/andante+andante_20002708.html   \n",
       "2   ABBA         As Good As New        /a/abba/as+good+as+new_20003033.html   \n",
       "3   ABBA                   Bang                  /a/abba/bang_20598415.html   \n",
       "4   ABBA       Bang-A-Boomerang      /a/abba/bang+a+boomerang_20002668.html   \n",
       "\n",
       "                                                text  \n",
       "0  Look at her face, it's a wonderful face  \\r\\nA...  \n",
       "1  Take it easy with me, please  \\r\\nTouch me gen...  \n",
       "2  I'll never know why I had to go  \\r\\nWhy I had...  \n",
       "3  Making somebody happy is a question of give an...  \n",
       "4  Making somebody happy is a question of give an...  "
      ]
     },
     "execution_count": 100,
     "metadata": {},
     "output_type": "execute_result"
    }
   ],
   "source": [
    "df.head(5)"
   ]
  },
  {
   "cell_type": "code",
   "execution_count": 101,
   "id": "1ee71090-d803-40a3-a6a3-4459dd43cdd9",
   "metadata": {},
   "outputs": [
    {
     "data": {
      "text/html": [
       "<div>\n",
       "<style scoped>\n",
       "    .dataframe tbody tr th:only-of-type {\n",
       "        vertical-align: middle;\n",
       "    }\n",
       "\n",
       "    .dataframe tbody tr th {\n",
       "        vertical-align: top;\n",
       "    }\n",
       "\n",
       "    .dataframe thead th {\n",
       "        text-align: right;\n",
       "    }\n",
       "</style>\n",
       "<table border=\"1\" class=\"dataframe\">\n",
       "  <thead>\n",
       "    <tr style=\"text-align: right;\">\n",
       "      <th></th>\n",
       "      <th>artist</th>\n",
       "      <th>song</th>\n",
       "      <th>link</th>\n",
       "      <th>text</th>\n",
       "    </tr>\n",
       "  </thead>\n",
       "  <tbody>\n",
       "    <tr>\n",
       "      <th>57645</th>\n",
       "      <td>Ziggy Marley</td>\n",
       "      <td>Good Old Days</td>\n",
       "      <td>/z/ziggy+marley/good+old+days_10198588.html</td>\n",
       "      <td>Irie days come on play  \\r\\nLet the angels fly...</td>\n",
       "    </tr>\n",
       "    <tr>\n",
       "      <th>57646</th>\n",
       "      <td>Ziggy Marley</td>\n",
       "      <td>Hand To Mouth</td>\n",
       "      <td>/z/ziggy+marley/hand+to+mouth_20531167.html</td>\n",
       "      <td>Power to the workers  \\r\\nMore power  \\r\\nPowe...</td>\n",
       "    </tr>\n",
       "    <tr>\n",
       "      <th>57647</th>\n",
       "      <td>Zwan</td>\n",
       "      <td>Come With Me</td>\n",
       "      <td>/z/zwan/come+with+me_20148981.html</td>\n",
       "      <td>all you need  \\r\\nis something i'll believe  \\...</td>\n",
       "    </tr>\n",
       "    <tr>\n",
       "      <th>57648</th>\n",
       "      <td>Zwan</td>\n",
       "      <td>Desire</td>\n",
       "      <td>/z/zwan/desire_20148986.html</td>\n",
       "      <td>northern star  \\r\\nam i frightened  \\r\\nwhere ...</td>\n",
       "    </tr>\n",
       "    <tr>\n",
       "      <th>57649</th>\n",
       "      <td>Zwan</td>\n",
       "      <td>Heartsong</td>\n",
       "      <td>/z/zwan/heartsong_20148991.html</td>\n",
       "      <td>come in  \\r\\nmake yourself at home  \\r\\ni'm a ...</td>\n",
       "    </tr>\n",
       "  </tbody>\n",
       "</table>\n",
       "</div>"
      ],
      "text/plain": [
       "             artist           song  \\\n",
       "57645  Ziggy Marley  Good Old Days   \n",
       "57646  Ziggy Marley  Hand To Mouth   \n",
       "57647          Zwan   Come With Me   \n",
       "57648          Zwan         Desire   \n",
       "57649          Zwan      Heartsong   \n",
       "\n",
       "                                              link  \\\n",
       "57645  /z/ziggy+marley/good+old+days_10198588.html   \n",
       "57646  /z/ziggy+marley/hand+to+mouth_20531167.html   \n",
       "57647           /z/zwan/come+with+me_20148981.html   \n",
       "57648                 /z/zwan/desire_20148986.html   \n",
       "57649              /z/zwan/heartsong_20148991.html   \n",
       "\n",
       "                                                    text  \n",
       "57645  Irie days come on play  \\r\\nLet the angels fly...  \n",
       "57646  Power to the workers  \\r\\nMore power  \\r\\nPowe...  \n",
       "57647  all you need  \\r\\nis something i'll believe  \\...  \n",
       "57648  northern star  \\r\\nam i frightened  \\r\\nwhere ...  \n",
       "57649  come in  \\r\\nmake yourself at home  \\r\\ni'm a ...  "
      ]
     },
     "execution_count": 101,
     "metadata": {},
     "output_type": "execute_result"
    }
   ],
   "source": [
    "df.tail(5)"
   ]
  },
  {
   "cell_type": "code",
   "execution_count": 102,
   "id": "638ad703-6a53-44d4-a9fd-f186c84ef054",
   "metadata": {},
   "outputs": [],
   "source": [
    "df = df.sample(5000)"
   ]
  },
  {
   "cell_type": "code",
   "execution_count": 103,
   "id": "7fa1119f-e2cf-43d8-8b37-c394bafa435f",
   "metadata": {},
   "outputs": [
    {
     "data": {
      "text/plain": [
       "(5000, 4)"
      ]
     },
     "execution_count": 103,
     "metadata": {},
     "output_type": "execute_result"
    }
   ],
   "source": [
    "df.shape"
   ]
  },
  {
   "cell_type": "code",
   "execution_count": 104,
   "id": "806235c0-b778-429c-a9aa-253f9d9bfed7",
   "metadata": {},
   "outputs": [
    {
     "data": {
      "text/plain": [
       "artist    0\n",
       "song      0\n",
       "link      0\n",
       "text      0\n",
       "dtype: int64"
      ]
     },
     "execution_count": 104,
     "metadata": {},
     "output_type": "execute_result"
    }
   ],
   "source": [
    "df.isnull().sum()"
   ]
  },
  {
   "cell_type": "code",
   "execution_count": 132,
   "id": "3fa358ab-7017-43e2-9889-33233bd7f5bb",
   "metadata": {},
   "outputs": [],
   "source": [
    "df = df.sample(5000).drop('link', axis = 1).reset_index(drop=True)"
   ]
  },
  {
   "cell_type": "code",
   "execution_count": 133,
   "id": "ac292ec4-ec9a-48c0-9248-66381d54f65b",
   "metadata": {},
   "outputs": [
    {
     "data": {
      "text/html": [
       "<div>\n",
       "<style scoped>\n",
       "    .dataframe tbody tr th:only-of-type {\n",
       "        vertical-align: middle;\n",
       "    }\n",
       "\n",
       "    .dataframe tbody tr th {\n",
       "        vertical-align: top;\n",
       "    }\n",
       "\n",
       "    .dataframe thead th {\n",
       "        text-align: right;\n",
       "    }\n",
       "</style>\n",
       "<table border=\"1\" class=\"dataframe\">\n",
       "  <thead>\n",
       "    <tr style=\"text-align: right;\">\n",
       "      <th></th>\n",
       "      <th>artist</th>\n",
       "      <th>song</th>\n",
       "      <th>text</th>\n",
       "    </tr>\n",
       "  </thead>\n",
       "  <tbody>\n",
       "    <tr>\n",
       "      <th>0</th>\n",
       "      <td>Lucky Dube</td>\n",
       "      <td>Is This Freedom</td>\n",
       "      <td>She got outside one morning  \\r\\nTo see what' ...</td>\n",
       "    </tr>\n",
       "    <tr>\n",
       "      <th>1</th>\n",
       "      <td>Paul Simon</td>\n",
       "      <td>Gone At Last</td>\n",
       "      <td>The night was black, the roads were icy  \\r\\nS...</td>\n",
       "    </tr>\n",
       "    <tr>\n",
       "      <th>2</th>\n",
       "      <td>Steve Miller Band</td>\n",
       "      <td>Let Me Serve You</td>\n",
       "      <td>Oh baby, don't you want a man like me  \\r\\nOh ...</td>\n",
       "    </tr>\n",
       "    <tr>\n",
       "      <th>3</th>\n",
       "      <td>Marianne Faithfull</td>\n",
       "      <td>Sexual Terrorist</td>\n",
       "      <td>(Barry Reynolds, Marianne Faithfull)  \\r\\n  \\r...</td>\n",
       "    </tr>\n",
       "    <tr>\n",
       "      <th>4</th>\n",
       "      <td>Violent Femmes</td>\n",
       "      <td>More Money Tonight</td>\n",
       "      <td>I always felt that I was different  \\r\\n  \\r\\n...</td>\n",
       "    </tr>\n",
       "    <tr>\n",
       "      <th>5</th>\n",
       "      <td>Xzibit</td>\n",
       "      <td>Best Of Things</td>\n",
       "      <td>[Xzibit]  \\r\\nI was voted most likely to have ...</td>\n",
       "    </tr>\n",
       "    <tr>\n",
       "      <th>6</th>\n",
       "      <td>Ozzy Osbourne</td>\n",
       "      <td>Old L.A. Tonight</td>\n",
       "      <td>Look into the future  \\r\\nLook into my eyes an...</td>\n",
       "    </tr>\n",
       "    <tr>\n",
       "      <th>7</th>\n",
       "      <td>Vince Gill</td>\n",
       "      <td>A River Like You</td>\n",
       "      <td>A good woman's love is like a river  \\r\\nRunni...</td>\n",
       "    </tr>\n",
       "    <tr>\n",
       "      <th>8</th>\n",
       "      <td>Falco</td>\n",
       "      <td>Do It Again</td>\n",
       "      <td>In the mornin' you go gunnin'  \\r\\nFor the man...</td>\n",
       "    </tr>\n",
       "    <tr>\n",
       "      <th>9</th>\n",
       "      <td>Josh Groban</td>\n",
       "      <td>Somewhere</td>\n",
       "      <td>Charlotte:  \\r\\nThere's a place for us  \\r\\nSo...</td>\n",
       "    </tr>\n",
       "  </tbody>\n",
       "</table>\n",
       "</div>"
      ],
      "text/plain": [
       "               artist                song  \\\n",
       "0          Lucky Dube     Is This Freedom   \n",
       "1          Paul Simon        Gone At Last   \n",
       "2   Steve Miller Band    Let Me Serve You   \n",
       "3  Marianne Faithfull    Sexual Terrorist   \n",
       "4      Violent Femmes  More Money Tonight   \n",
       "5              Xzibit      Best Of Things   \n",
       "6       Ozzy Osbourne    Old L.A. Tonight   \n",
       "7          Vince Gill    A River Like You   \n",
       "8               Falco         Do It Again   \n",
       "9         Josh Groban           Somewhere   \n",
       "\n",
       "                                                text  \n",
       "0  She got outside one morning  \\r\\nTo see what' ...  \n",
       "1  The night was black, the roads were icy  \\r\\nS...  \n",
       "2  Oh baby, don't you want a man like me  \\r\\nOh ...  \n",
       "3  (Barry Reynolds, Marianne Faithfull)  \\r\\n  \\r...  \n",
       "4  I always felt that I was different  \\r\\n  \\r\\n...  \n",
       "5  [Xzibit]  \\r\\nI was voted most likely to have ...  \n",
       "6  Look into the future  \\r\\nLook into my eyes an...  \n",
       "7  A good woman's love is like a river  \\r\\nRunni...  \n",
       "8  In the mornin' you go gunnin'  \\r\\nFor the man...  \n",
       "9  Charlotte:  \\r\\nThere's a place for us  \\r\\nSo...  "
      ]
     },
     "execution_count": 133,
     "metadata": {},
     "output_type": "execute_result"
    }
   ],
   "source": [
    "df.head(10)"
   ]
  },
  {
   "cell_type": "code",
   "execution_count": 134,
   "id": "f3e241f2-109d-45b0-aede-78a5c9fcd5b2",
   "metadata": {},
   "outputs": [
    {
     "data": {
      "text/plain": [
       "\"She got outside one morning  \\r\\nTo see what' s going on  \\r\\n'Cause she heard all the noises  \\r\\nIn the night, It' s a celebration  \\r\\nEven though she was old and grey  \\r\\nIt didn't mean she was deaf and dumb  \\r\\nShe looks one look at the man  \\r\\nThrows her hands in the air  \\r\\nAnd said God help us all  \\r\\nToo much power in one mans hands  \\r\\nIs dangerous  \\r\\nShe has never tasted freedom  \\r\\nAnd all the things  \\r\\nWe take for granted  \\r\\nThen she looked at me and said  \\r\\nSon, Is this the end of our suffering?  \\r\\n  \\r\\n[Chorus:]  \\r\\nIs this freedom?  \\r\\nIs this freedom?  \\r\\n  \\r\\nWe have just witnessed the  \\r\\nChange of power from one fool  \\r\\nAnd liar to another  \\r\\nOur lives on the line again  \\r\\nShe had lived through the wars  \\r\\nShe didn't want to go through it all again  \\r\\nShe has seen injustice  \\r\\nShe has seen corruption  \\r\\nShe has seen racism  \\r\\nAnd any other kind of suffering  \\r\\nYou can think about  \\r\\nThen she said to me  \\r\\nSon, Is this the end of suffering?  \\r\\n  \\r\\n[Chorus till fade]\\r\\n\\r\\n\""
      ]
     },
     "execution_count": 134,
     "metadata": {},
     "output_type": "execute_result"
    }
   ],
   "source": [
    "df['text'][0]"
   ]
  },
  {
   "cell_type": "code",
   "execution_count": 135,
   "id": "5a2f9546-d215-40cf-949b-bcadd11c75c3",
   "metadata": {},
   "outputs": [
    {
     "data": {
      "text/html": [
       "<div>\n",
       "<style scoped>\n",
       "    .dataframe tbody tr th:only-of-type {\n",
       "        vertical-align: middle;\n",
       "    }\n",
       "\n",
       "    .dataframe tbody tr th {\n",
       "        vertical-align: top;\n",
       "    }\n",
       "\n",
       "    .dataframe thead th {\n",
       "        text-align: right;\n",
       "    }\n",
       "</style>\n",
       "<table border=\"1\" class=\"dataframe\">\n",
       "  <thead>\n",
       "    <tr style=\"text-align: right;\">\n",
       "      <th></th>\n",
       "      <th>artist</th>\n",
       "      <th>song</th>\n",
       "      <th>text</th>\n",
       "    </tr>\n",
       "  </thead>\n",
       "  <tbody>\n",
       "    <tr>\n",
       "      <th>0</th>\n",
       "      <td>Lucky Dube</td>\n",
       "      <td>Is This Freedom</td>\n",
       "      <td>She got outside one morning  \\r\\nTo see what' ...</td>\n",
       "    </tr>\n",
       "    <tr>\n",
       "      <th>1</th>\n",
       "      <td>Paul Simon</td>\n",
       "      <td>Gone At Last</td>\n",
       "      <td>The night was black, the roads were icy  \\r\\nS...</td>\n",
       "    </tr>\n",
       "    <tr>\n",
       "      <th>2</th>\n",
       "      <td>Steve Miller Band</td>\n",
       "      <td>Let Me Serve You</td>\n",
       "      <td>Oh baby, don't you want a man like me  \\r\\nOh ...</td>\n",
       "    </tr>\n",
       "    <tr>\n",
       "      <th>3</th>\n",
       "      <td>Marianne Faithfull</td>\n",
       "      <td>Sexual Terrorist</td>\n",
       "      <td>(Barry Reynolds, Marianne Faithfull)  \\r\\n  \\r...</td>\n",
       "    </tr>\n",
       "    <tr>\n",
       "      <th>4</th>\n",
       "      <td>Violent Femmes</td>\n",
       "      <td>More Money Tonight</td>\n",
       "      <td>I always felt that I was different  \\r\\n  \\r\\n...</td>\n",
       "    </tr>\n",
       "    <tr>\n",
       "      <th>...</th>\n",
       "      <td>...</td>\n",
       "      <td>...</td>\n",
       "      <td>...</td>\n",
       "    </tr>\n",
       "    <tr>\n",
       "      <th>4995</th>\n",
       "      <td>Queen</td>\n",
       "      <td>Hijack My Heart</td>\n",
       "      <td>Words and music by Queen  \\r\\nJust walking dow...</td>\n",
       "    </tr>\n",
       "    <tr>\n",
       "      <th>4996</th>\n",
       "      <td>Queens Of The Stone Age</td>\n",
       "      <td>Little Sister</td>\n",
       "      <td>Hey, sister, are you all alone?  \\r\\nI'm stand...</td>\n",
       "    </tr>\n",
       "    <tr>\n",
       "      <th>4997</th>\n",
       "      <td>Cake</td>\n",
       "      <td>Perhaps, Perhaps, Perhaps</td>\n",
       "      <td>You won't admit you love me  \\r\\nAnd so how am...</td>\n",
       "    </tr>\n",
       "    <tr>\n",
       "      <th>4998</th>\n",
       "      <td>Kanye West</td>\n",
       "      <td>Let's Get Married Reception Remix</td>\n",
       "      <td>[Chorus:]  \\r\\nJust gots me a crib and a new c...</td>\n",
       "    </tr>\n",
       "    <tr>\n",
       "      <th>4999</th>\n",
       "      <td>Glee</td>\n",
       "      <td>Imagine</td>\n",
       "      <td>Imagine there's no countries,  \\r\\nIt isn't ha...</td>\n",
       "    </tr>\n",
       "  </tbody>\n",
       "</table>\n",
       "<p>5000 rows × 3 columns</p>\n",
       "</div>"
      ],
      "text/plain": [
       "                       artist                               song  \\\n",
       "0                  Lucky Dube                    Is This Freedom   \n",
       "1                  Paul Simon                       Gone At Last   \n",
       "2           Steve Miller Band                   Let Me Serve You   \n",
       "3          Marianne Faithfull                   Sexual Terrorist   \n",
       "4              Violent Femmes                 More Money Tonight   \n",
       "...                       ...                                ...   \n",
       "4995                    Queen                    Hijack My Heart   \n",
       "4996  Queens Of The Stone Age                      Little Sister   \n",
       "4997                     Cake          Perhaps, Perhaps, Perhaps   \n",
       "4998               Kanye West  Let's Get Married Reception Remix   \n",
       "4999                     Glee                            Imagine   \n",
       "\n",
       "                                                   text  \n",
       "0     She got outside one morning  \\r\\nTo see what' ...  \n",
       "1     The night was black, the roads were icy  \\r\\nS...  \n",
       "2     Oh baby, don't you want a man like me  \\r\\nOh ...  \n",
       "3     (Barry Reynolds, Marianne Faithfull)  \\r\\n  \\r...  \n",
       "4     I always felt that I was different  \\r\\n  \\r\\n...  \n",
       "...                                                 ...  \n",
       "4995  Words and music by Queen  \\r\\nJust walking dow...  \n",
       "4996  Hey, sister, are you all alone?  \\r\\nI'm stand...  \n",
       "4997  You won't admit you love me  \\r\\nAnd so how am...  \n",
       "4998  [Chorus:]  \\r\\nJust gots me a crib and a new c...  \n",
       "4999  Imagine there's no countries,  \\r\\nIt isn't ha...  \n",
       "\n",
       "[5000 rows x 3 columns]"
      ]
     },
     "execution_count": 135,
     "metadata": {},
     "output_type": "execute_result"
    }
   ],
   "source": [
    "df"
   ]
  },
  {
   "cell_type": "code",
   "execution_count": 136,
   "id": "eecc986b-d1bb-4e1b-94d6-4e89eb160cc5",
   "metadata": {},
   "outputs": [
    {
     "data": {
      "text/html": [
       "<div>\n",
       "<style scoped>\n",
       "    .dataframe tbody tr th:only-of-type {\n",
       "        vertical-align: middle;\n",
       "    }\n",
       "\n",
       "    .dataframe tbody tr th {\n",
       "        vertical-align: top;\n",
       "    }\n",
       "\n",
       "    .dataframe thead th {\n",
       "        text-align: right;\n",
       "    }\n",
       "</style>\n",
       "<table border=\"1\" class=\"dataframe\">\n",
       "  <thead>\n",
       "    <tr style=\"text-align: right;\">\n",
       "      <th></th>\n",
       "      <th>artist</th>\n",
       "      <th>song</th>\n",
       "      <th>text</th>\n",
       "    </tr>\n",
       "  </thead>\n",
       "  <tbody>\n",
       "    <tr>\n",
       "      <th>4995</th>\n",
       "      <td>Queen</td>\n",
       "      <td>Hijack My Heart</td>\n",
       "      <td>Words and music by Queen  \\r\\nJust walking dow...</td>\n",
       "    </tr>\n",
       "    <tr>\n",
       "      <th>4996</th>\n",
       "      <td>Queens Of The Stone Age</td>\n",
       "      <td>Little Sister</td>\n",
       "      <td>Hey, sister, are you all alone?  \\r\\nI'm stand...</td>\n",
       "    </tr>\n",
       "    <tr>\n",
       "      <th>4997</th>\n",
       "      <td>Cake</td>\n",
       "      <td>Perhaps, Perhaps, Perhaps</td>\n",
       "      <td>You won't admit you love me  \\r\\nAnd so how am...</td>\n",
       "    </tr>\n",
       "    <tr>\n",
       "      <th>4998</th>\n",
       "      <td>Kanye West</td>\n",
       "      <td>Let's Get Married Reception Remix</td>\n",
       "      <td>[Chorus:]  \\r\\nJust gots me a crib and a new c...</td>\n",
       "    </tr>\n",
       "    <tr>\n",
       "      <th>4999</th>\n",
       "      <td>Glee</td>\n",
       "      <td>Imagine</td>\n",
       "      <td>Imagine there's no countries,  \\r\\nIt isn't ha...</td>\n",
       "    </tr>\n",
       "  </tbody>\n",
       "</table>\n",
       "</div>"
      ],
      "text/plain": [
       "                       artist                               song  \\\n",
       "4995                    Queen                    Hijack My Heart   \n",
       "4996  Queens Of The Stone Age                      Little Sister   \n",
       "4997                     Cake          Perhaps, Perhaps, Perhaps   \n",
       "4998               Kanye West  Let's Get Married Reception Remix   \n",
       "4999                     Glee                            Imagine   \n",
       "\n",
       "                                                   text  \n",
       "4995  Words and music by Queen  \\r\\nJust walking dow...  \n",
       "4996  Hey, sister, are you all alone?  \\r\\nI'm stand...  \n",
       "4997  You won't admit you love me  \\r\\nAnd so how am...  \n",
       "4998  [Chorus:]  \\r\\nJust gots me a crib and a new c...  \n",
       "4999  Imagine there's no countries,  \\r\\nIt isn't ha...  "
      ]
     },
     "execution_count": 136,
     "metadata": {},
     "output_type": "execute_result"
    }
   ],
   "source": [
    "df.tail(5)"
   ]
  },
  {
   "cell_type": "code",
   "execution_count": 137,
   "id": "963c09a4-226d-47ef-9c34-c9d12b322b8a",
   "metadata": {},
   "outputs": [
    {
     "data": {
      "text/html": [
       "<div>\n",
       "<style scoped>\n",
       "    .dataframe tbody tr th:only-of-type {\n",
       "        vertical-align: middle;\n",
       "    }\n",
       "\n",
       "    .dataframe tbody tr th {\n",
       "        vertical-align: top;\n",
       "    }\n",
       "\n",
       "    .dataframe thead th {\n",
       "        text-align: right;\n",
       "    }\n",
       "</style>\n",
       "<table border=\"1\" class=\"dataframe\">\n",
       "  <thead>\n",
       "    <tr style=\"text-align: right;\">\n",
       "      <th></th>\n",
       "      <th>artist</th>\n",
       "      <th>song</th>\n",
       "      <th>text</th>\n",
       "    </tr>\n",
       "  </thead>\n",
       "  <tbody>\n",
       "    <tr>\n",
       "      <th>0</th>\n",
       "      <td>Lucky Dube</td>\n",
       "      <td>Is This Freedom</td>\n",
       "      <td>She got outside one morning  \\r\\nTo see what' ...</td>\n",
       "    </tr>\n",
       "    <tr>\n",
       "      <th>1</th>\n",
       "      <td>Paul Simon</td>\n",
       "      <td>Gone At Last</td>\n",
       "      <td>The night was black, the roads were icy  \\r\\nS...</td>\n",
       "    </tr>\n",
       "    <tr>\n",
       "      <th>2</th>\n",
       "      <td>Steve Miller Band</td>\n",
       "      <td>Let Me Serve You</td>\n",
       "      <td>Oh baby, don't you want a man like me  \\r\\nOh ...</td>\n",
       "    </tr>\n",
       "    <tr>\n",
       "      <th>3</th>\n",
       "      <td>Marianne Faithfull</td>\n",
       "      <td>Sexual Terrorist</td>\n",
       "      <td>(Barry Reynolds, Marianne Faithfull)  \\r\\n  \\r...</td>\n",
       "    </tr>\n",
       "    <tr>\n",
       "      <th>4</th>\n",
       "      <td>Violent Femmes</td>\n",
       "      <td>More Money Tonight</td>\n",
       "      <td>I always felt that I was different  \\r\\n  \\r\\n...</td>\n",
       "    </tr>\n",
       "    <tr>\n",
       "      <th>...</th>\n",
       "      <td>...</td>\n",
       "      <td>...</td>\n",
       "      <td>...</td>\n",
       "    </tr>\n",
       "    <tr>\n",
       "      <th>4995</th>\n",
       "      <td>Queen</td>\n",
       "      <td>Hijack My Heart</td>\n",
       "      <td>Words and music by Queen  \\r\\nJust walking dow...</td>\n",
       "    </tr>\n",
       "    <tr>\n",
       "      <th>4996</th>\n",
       "      <td>Queens Of The Stone Age</td>\n",
       "      <td>Little Sister</td>\n",
       "      <td>Hey, sister, are you all alone?  \\r\\nI'm stand...</td>\n",
       "    </tr>\n",
       "    <tr>\n",
       "      <th>4997</th>\n",
       "      <td>Cake</td>\n",
       "      <td>Perhaps, Perhaps, Perhaps</td>\n",
       "      <td>You won't admit you love me  \\r\\nAnd so how am...</td>\n",
       "    </tr>\n",
       "    <tr>\n",
       "      <th>4998</th>\n",
       "      <td>Kanye West</td>\n",
       "      <td>Let's Get Married Reception Remix</td>\n",
       "      <td>[Chorus:]  \\r\\nJust gots me a crib and a new c...</td>\n",
       "    </tr>\n",
       "    <tr>\n",
       "      <th>4999</th>\n",
       "      <td>Glee</td>\n",
       "      <td>Imagine</td>\n",
       "      <td>Imagine there's no countries,  \\r\\nIt isn't ha...</td>\n",
       "    </tr>\n",
       "  </tbody>\n",
       "</table>\n",
       "<p>5000 rows × 3 columns</p>\n",
       "</div>"
      ],
      "text/plain": [
       "                       artist                               song  \\\n",
       "0                  Lucky Dube                    Is This Freedom   \n",
       "1                  Paul Simon                       Gone At Last   \n",
       "2           Steve Miller Band                   Let Me Serve You   \n",
       "3          Marianne Faithfull                   Sexual Terrorist   \n",
       "4              Violent Femmes                 More Money Tonight   \n",
       "...                       ...                                ...   \n",
       "4995                    Queen                    Hijack My Heart   \n",
       "4996  Queens Of The Stone Age                      Little Sister   \n",
       "4997                     Cake          Perhaps, Perhaps, Perhaps   \n",
       "4998               Kanye West  Let's Get Married Reception Remix   \n",
       "4999                     Glee                            Imagine   \n",
       "\n",
       "                                                   text  \n",
       "0     She got outside one morning  \\r\\nTo see what' ...  \n",
       "1     The night was black, the roads were icy  \\r\\nS...  \n",
       "2     Oh baby, don't you want a man like me  \\r\\nOh ...  \n",
       "3     (Barry Reynolds, Marianne Faithfull)  \\r\\n  \\r...  \n",
       "4     I always felt that I was different  \\r\\n  \\r\\n...  \n",
       "...                                                 ...  \n",
       "4995  Words and music by Queen  \\r\\nJust walking dow...  \n",
       "4996  Hey, sister, are you all alone?  \\r\\nI'm stand...  \n",
       "4997  You won't admit you love me  \\r\\nAnd so how am...  \n",
       "4998  [Chorus:]  \\r\\nJust gots me a crib and a new c...  \n",
       "4999  Imagine there's no countries,  \\r\\nIt isn't ha...  \n",
       "\n",
       "[5000 rows x 3 columns]"
      ]
     },
     "execution_count": 137,
     "metadata": {},
     "output_type": "execute_result"
    }
   ],
   "source": [
    "df"
   ]
  },
  {
   "cell_type": "code",
   "execution_count": 138,
   "id": "143591c4-1808-47a8-8fa6-e9ed37263b46",
   "metadata": {},
   "outputs": [],
   "source": [
    "import nltk\n",
    "from nltk.stem.porter import PorterStemmer"
   ]
  },
  {
   "cell_type": "code",
   "execution_count": 139,
   "id": "98f9b606-d2aa-4c54-a57c-0d7630e37910",
   "metadata": {},
   "outputs": [],
   "source": [
    "stemmer = PorterStemmer()"
   ]
  },
  {
   "cell_type": "code",
   "execution_count": 140,
   "id": "efebacea-0a95-444e-a163-d66212bc153f",
   "metadata": {},
   "outputs": [],
   "source": [
    "def token(txt):\n",
    "    token = nltk.word_tokenize(txt)\n",
    "    a = [stemmer.stem(w) for w in token]\n",
    "    return \" \".join(a)"
   ]
  },
  {
   "cell_type": "code",
   "execution_count": 141,
   "id": "fe32c821-8c55-4d0f-9bd4-dcd272f55cd0",
   "metadata": {},
   "outputs": [
    {
     "data": {
      "text/plain": [
       "'you are beauti'"
      ]
     },
     "execution_count": 141,
     "metadata": {},
     "output_type": "execute_result"
    }
   ],
   "source": [
    "token(\"you are beautiful\")\n"
   ]
  },
  {
   "cell_type": "code",
   "execution_count": 142,
   "id": "a843b9d8-31d6-4d05-a6a3-0e334b341f3f",
   "metadata": {},
   "outputs": [
    {
     "data": {
      "text/plain": [
       "'hi how are you do , mate'"
      ]
     },
     "execution_count": 142,
     "metadata": {},
     "output_type": "execute_result"
    }
   ],
   "source": [
    "token(\"hi how are you doing, Mate \")\n"
   ]
  },
  {
   "cell_type": "code",
   "execution_count": 143,
   "id": "68a6d863-713b-4208-9853-e3fd91547518",
   "metadata": {},
   "outputs": [],
   "source": [
    "from sklearn.feature_extraction.text import TfidfVectorizer\n",
    "from sklearn.metrics.pairwise import cosine_similarity"
   ]
  },
  {
   "cell_type": "code",
   "execution_count": 144,
   "id": "1a070b9e-ea00-4852-91e3-166739ded8e5",
   "metadata": {},
   "outputs": [
    {
     "data": {
      "text/html": [
       "<div>\n",
       "<style scoped>\n",
       "    .dataframe tbody tr th:only-of-type {\n",
       "        vertical-align: middle;\n",
       "    }\n",
       "\n",
       "    .dataframe tbody tr th {\n",
       "        vertical-align: top;\n",
       "    }\n",
       "\n",
       "    .dataframe thead th {\n",
       "        text-align: right;\n",
       "    }\n",
       "</style>\n",
       "<table border=\"1\" class=\"dataframe\">\n",
       "  <thead>\n",
       "    <tr style=\"text-align: right;\">\n",
       "      <th></th>\n",
       "      <th>artist</th>\n",
       "      <th>song</th>\n",
       "      <th>text</th>\n",
       "    </tr>\n",
       "  </thead>\n",
       "  <tbody>\n",
       "    <tr>\n",
       "      <th>0</th>\n",
       "      <td>Lucky Dube</td>\n",
       "      <td>Is This Freedom</td>\n",
       "      <td>She got outside one morning  \\r\\nTo see what' ...</td>\n",
       "    </tr>\n",
       "    <tr>\n",
       "      <th>1</th>\n",
       "      <td>Paul Simon</td>\n",
       "      <td>Gone At Last</td>\n",
       "      <td>The night was black, the roads were icy  \\r\\nS...</td>\n",
       "    </tr>\n",
       "    <tr>\n",
       "      <th>2</th>\n",
       "      <td>Steve Miller Band</td>\n",
       "      <td>Let Me Serve You</td>\n",
       "      <td>Oh baby, don't you want a man like me  \\r\\nOh ...</td>\n",
       "    </tr>\n",
       "    <tr>\n",
       "      <th>3</th>\n",
       "      <td>Marianne Faithfull</td>\n",
       "      <td>Sexual Terrorist</td>\n",
       "      <td>(Barry Reynolds, Marianne Faithfull)  \\r\\n  \\r...</td>\n",
       "    </tr>\n",
       "    <tr>\n",
       "      <th>4</th>\n",
       "      <td>Violent Femmes</td>\n",
       "      <td>More Money Tonight</td>\n",
       "      <td>I always felt that I was different  \\r\\n  \\r\\n...</td>\n",
       "    </tr>\n",
       "  </tbody>\n",
       "</table>\n",
       "</div>"
      ],
      "text/plain": [
       "               artist                song  \\\n",
       "0          Lucky Dube     Is This Freedom   \n",
       "1          Paul Simon        Gone At Last   \n",
       "2   Steve Miller Band    Let Me Serve You   \n",
       "3  Marianne Faithfull    Sexual Terrorist   \n",
       "4      Violent Femmes  More Money Tonight   \n",
       "\n",
       "                                                text  \n",
       "0  She got outside one morning  \\r\\nTo see what' ...  \n",
       "1  The night was black, the roads were icy  \\r\\nS...  \n",
       "2  Oh baby, don't you want a man like me  \\r\\nOh ...  \n",
       "3  (Barry Reynolds, Marianne Faithfull)  \\r\\n  \\r...  \n",
       "4  I always felt that I was different  \\r\\n  \\r\\n...  "
      ]
     },
     "execution_count": 144,
     "metadata": {},
     "output_type": "execute_result"
    }
   ],
   "source": [
    "df.head(5)\n"
   ]
  },
  {
   "cell_type": "code",
   "execution_count": 145,
   "id": "9bb775e5-b778-4772-ace0-fa017b57c032",
   "metadata": {},
   "outputs": [
    {
     "data": {
      "text/html": [
       "<div>\n",
       "<style scoped>\n",
       "    .dataframe tbody tr th:only-of-type {\n",
       "        vertical-align: middle;\n",
       "    }\n",
       "\n",
       "    .dataframe tbody tr th {\n",
       "        vertical-align: top;\n",
       "    }\n",
       "\n",
       "    .dataframe thead th {\n",
       "        text-align: right;\n",
       "    }\n",
       "</style>\n",
       "<table border=\"1\" class=\"dataframe\">\n",
       "  <thead>\n",
       "    <tr style=\"text-align: right;\">\n",
       "      <th></th>\n",
       "      <th>artist</th>\n",
       "      <th>song</th>\n",
       "      <th>text</th>\n",
       "    </tr>\n",
       "  </thead>\n",
       "  <tbody>\n",
       "    <tr>\n",
       "      <th>4995</th>\n",
       "      <td>Queen</td>\n",
       "      <td>Hijack My Heart</td>\n",
       "      <td>Words and music by Queen  \\r\\nJust walking dow...</td>\n",
       "    </tr>\n",
       "    <tr>\n",
       "      <th>4996</th>\n",
       "      <td>Queens Of The Stone Age</td>\n",
       "      <td>Little Sister</td>\n",
       "      <td>Hey, sister, are you all alone?  \\r\\nI'm stand...</td>\n",
       "    </tr>\n",
       "    <tr>\n",
       "      <th>4997</th>\n",
       "      <td>Cake</td>\n",
       "      <td>Perhaps, Perhaps, Perhaps</td>\n",
       "      <td>You won't admit you love me  \\r\\nAnd so how am...</td>\n",
       "    </tr>\n",
       "    <tr>\n",
       "      <th>4998</th>\n",
       "      <td>Kanye West</td>\n",
       "      <td>Let's Get Married Reception Remix</td>\n",
       "      <td>[Chorus:]  \\r\\nJust gots me a crib and a new c...</td>\n",
       "    </tr>\n",
       "    <tr>\n",
       "      <th>4999</th>\n",
       "      <td>Glee</td>\n",
       "      <td>Imagine</td>\n",
       "      <td>Imagine there's no countries,  \\r\\nIt isn't ha...</td>\n",
       "    </tr>\n",
       "  </tbody>\n",
       "</table>\n",
       "</div>"
      ],
      "text/plain": [
       "                       artist                               song  \\\n",
       "4995                    Queen                    Hijack My Heart   \n",
       "4996  Queens Of The Stone Age                      Little Sister   \n",
       "4997                     Cake          Perhaps, Perhaps, Perhaps   \n",
       "4998               Kanye West  Let's Get Married Reception Remix   \n",
       "4999                     Glee                            Imagine   \n",
       "\n",
       "                                                   text  \n",
       "4995  Words and music by Queen  \\r\\nJust walking dow...  \n",
       "4996  Hey, sister, are you all alone?  \\r\\nI'm stand...  \n",
       "4997  You won't admit you love me  \\r\\nAnd so how am...  \n",
       "4998  [Chorus:]  \\r\\nJust gots me a crib and a new c...  \n",
       "4999  Imagine there's no countries,  \\r\\nIt isn't ha...  "
      ]
     },
     "execution_count": 145,
     "metadata": {},
     "output_type": "execute_result"
    }
   ],
   "source": [
    "df.tail(5)"
   ]
  },
  {
   "cell_type": "code",
   "execution_count": 146,
   "id": "77d04b12-d6e1-426b-a1a7-512e48c1fb39",
   "metadata": {},
   "outputs": [],
   "source": [
    "tfid = TfidfVectorizer(analyzer='word', stop_words='english')"
   ]
  },
  {
   "cell_type": "code",
   "execution_count": 147,
   "id": "fb79edd0-bb6e-44c5-92cd-7afb5b7d0caa",
   "metadata": {},
   "outputs": [],
   "source": [
    "matrix=tfid.fit_transform(df['text'])"
   ]
  },
  {
   "cell_type": "code",
   "execution_count": 148,
   "id": "f7b34198-3459-4cb1-8c3b-876f8f55bb0b",
   "metadata": {},
   "outputs": [],
   "source": [
    "similar = cosine_similarity(matrix)"
   ]
  },
  {
   "cell_type": "code",
   "execution_count": 149,
   "id": "ebe05f6e-9cb4-4b3d-ac4b-fe20737acd20",
   "metadata": {},
   "outputs": [
    {
     "data": {
      "text/plain": [
       "array([1.        , 0.03631537, 0.04320221, ..., 0.        , 0.04225145,\n",
       "       0.00249189])"
      ]
     },
     "execution_count": 149,
     "metadata": {},
     "output_type": "execute_result"
    }
   ],
   "source": [
    "similar[0]"
   ]
  },
  {
   "cell_type": "code",
   "execution_count": 150,
   "id": "5e032799-2b8c-4381-87cd-59fe1fb8655a",
   "metadata": {},
   "outputs": [
    {
     "data": {
      "text/plain": [
       "np.int64(2404)"
      ]
     },
     "execution_count": 150,
     "metadata": {},
     "output_type": "execute_result"
    }
   ],
   "source": [
    "df[df['song'] == 'Many Too Many'].index[0]"
   ]
  },
  {
   "cell_type": "markdown",
   "id": "e72657bf-6f30-4fb0-9470-af191a65b978",
   "metadata": {},
   "source": [
    "Recommender Function"
   ]
  },
  {
   "cell_type": "code",
   "execution_count": 155,
   "id": "64ed2695-ea18-4ff5-b777-bb1e8fc8d149",
   "metadata": {},
   "outputs": [],
   "source": [
    "def recommender(song_name):\n",
    "    index = df[df['song'] == song_name].index[0]\n",
    "    distance = sorted(list(enumerate(similar[index])), reverse = True, key = lambda x:x[1])\n",
    "    song = []\n",
    "    for s_id in distance[1:20]:\n",
    "        song.append(df.iloc[s_id[0]].song)\n",
    "    return song"
   ]
  },
  {
   "cell_type": "code",
   "execution_count": 156,
   "id": "00126448-d3b4-4b3a-9fdb-ed7e260a2e0d",
   "metadata": {},
   "outputs": [
    {
     "data": {
      "text/plain": [
       "['I Have But One Heart (O Marenariello)',\n",
       " 'Heart Over Mind',\n",
       " 'Fire And Water',\n",
       " 'Leave My Heart Out Of This',\n",
       " 'If Anybody Had A Heart',\n",
       " 'God Compare',\n",
       " \"I Can't Hide My Heart\",\n",
       " \"Don't Break My Heart\",\n",
       " 'Change Of Heart',\n",
       " 'Feels Like Love',\n",
       " 'Hang It On Your Heart',\n",
       " \"I'm Gone\",\n",
       " 'Tell It To Your Heart',\n",
       " 'Piece Of My Heart',\n",
       " 'Thunder In My Heart',\n",
       " 'Love Will Keep Us Together',\n",
       " 'Left 2 3 4',\n",
       " \"Stuck On Fuckin' You\",\n",
       " 'Breaking Your Own Heart']"
      ]
     },
     "execution_count": 156,
     "metadata": {},
     "output_type": "execute_result"
    }
   ],
   "source": [
    "recommender(\"Hijack My Heart\")"
   ]
  },
  {
   "cell_type": "code",
   "execution_count": 157,
   "id": "4945e288-ead4-44b1-9604-5ed0b5173876",
   "metadata": {},
   "outputs": [],
   "source": [
    "import pickle"
   ]
  },
  {
   "cell_type": "code",
   "execution_count": 158,
   "id": "453fc124-fd34-441c-9d92-a15b51af4b82",
   "metadata": {},
   "outputs": [],
   "source": [
    "pickle.dump(similar, open(\"similarity\", \"wb\"))"
   ]
  },
  {
   "cell_type": "code",
   "execution_count": 160,
   "id": "829e1a30-47f5-4ea1-a611-840847207281",
   "metadata": {},
   "outputs": [],
   "source": [
    "pickle.dump(df, open(\"df\", \"wb\"))"
   ]
  },
  {
   "cell_type": "code",
   "execution_count": null,
   "id": "950d5946-ff5d-4ab4-9bff-ac8ea28f8434",
   "metadata": {},
   "outputs": [],
   "source": []
  }
 ],
 "metadata": {
  "kernelspec": {
   "display_name": "Python 3 (ipykernel)",
   "language": "python",
   "name": "python3"
  },
  "language_info": {
   "codemirror_mode": {
    "name": "ipython",
    "version": 3
   },
   "file_extension": ".py",
   "mimetype": "text/x-python",
   "name": "python",
   "nbconvert_exporter": "python",
   "pygments_lexer": "ipython3",
   "version": "3.12.2"
  }
 },
 "nbformat": 4,
 "nbformat_minor": 5
}
